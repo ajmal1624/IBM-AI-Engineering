{
 "cells": [
  {
   "cell_type": "markdown",
   "id": "c6341f64-1d0a-4973-9418-3e134f93fb27",
   "metadata": {},
   "source": [
    "Regression Model in Keras"
   ]
  },
  {
   "cell_type": "code",
   "execution_count": 2,
   "id": "b8874dfb-1488-4989-b5c8-956404eebc29",
   "metadata": {},
   "outputs": [],
   "source": [
    "import pandas as pd\n",
    "import numpy as np"
   ]
  },
  {
   "cell_type": "markdown",
   "id": "3505691b-4f24-457e-b642-0c3354f5604d",
   "metadata": {},
   "source": [
    "Get the dataset"
   ]
  },
  {
   "cell_type": "code",
   "execution_count": 3,
   "id": "3a125b3a-4b93-4fca-a52e-19476de6f29e",
   "metadata": {},
   "outputs": [],
   "source": [
    "concrete_data = pd.read_csv('https://s3-api.us-geo.objectstorage.softlayer.net/cf-courses-data/CognitiveClass/DL0101EN/labs/data/concrete_data.csv')"
   ]
  },
  {
   "cell_type": "markdown",
   "id": "f5275e77-73dd-4d82-a264-2b4ba3e73ee1",
   "metadata": {},
   "source": [
    "Prepare the data"
   ]
  },
  {
   "cell_type": "code",
   "execution_count": 4,
   "id": "10a33d0a-ad9e-4541-b157-b63606484164",
   "metadata": {},
   "outputs": [],
   "source": [
    "concrete_data_columns = concrete_data.columns\n",
    "\n",
    "predictors = concrete_data[concrete_data_columns[concrete_data_columns != 'Strength']] \n",
    "target = concrete_data['Strength']\n",
    "n_cols = predictors.shape[1]"
   ]
  },
  {
   "cell_type": "markdown",
   "id": "aab66a67-2d2d-409c-ad6c-3f70de708101",
   "metadata": {},
   "source": [
    "Load Keras libary"
   ]
  },
  {
   "cell_type": "code",
   "execution_count": 5,
   "id": "accc4b4b-ec3c-48b7-9b02-fdeb863fcbbb",
   "metadata": {},
   "outputs": [
    {
     "name": "stderr",
     "output_type": "stream",
     "text": [
      "Using TensorFlow backend.\n",
      "/home/jupyterlab/conda/envs/python/lib/python3.7/site-packages/tensorflow/python/framework/dtypes.py:516: FutureWarning: Passing (type, 1) or '1type' as a synonym of type is deprecated; in a future version of numpy, it will be understood as (type, (1,)) / '(1,)type'.\n",
      "  _np_qint8 = np.dtype([(\"qint8\", np.int8, 1)])\n",
      "/home/jupyterlab/conda/envs/python/lib/python3.7/site-packages/tensorflow/python/framework/dtypes.py:517: FutureWarning: Passing (type, 1) or '1type' as a synonym of type is deprecated; in a future version of numpy, it will be understood as (type, (1,)) / '(1,)type'.\n",
      "  _np_quint8 = np.dtype([(\"quint8\", np.uint8, 1)])\n",
      "/home/jupyterlab/conda/envs/python/lib/python3.7/site-packages/tensorflow/python/framework/dtypes.py:518: FutureWarning: Passing (type, 1) or '1type' as a synonym of type is deprecated; in a future version of numpy, it will be understood as (type, (1,)) / '(1,)type'.\n",
      "  _np_qint16 = np.dtype([(\"qint16\", np.int16, 1)])\n",
      "/home/jupyterlab/conda/envs/python/lib/python3.7/site-packages/tensorflow/python/framework/dtypes.py:519: FutureWarning: Passing (type, 1) or '1type' as a synonym of type is deprecated; in a future version of numpy, it will be understood as (type, (1,)) / '(1,)type'.\n",
      "  _np_quint16 = np.dtype([(\"quint16\", np.uint16, 1)])\n",
      "/home/jupyterlab/conda/envs/python/lib/python3.7/site-packages/tensorflow/python/framework/dtypes.py:520: FutureWarning: Passing (type, 1) or '1type' as a synonym of type is deprecated; in a future version of numpy, it will be understood as (type, (1,)) / '(1,)type'.\n",
      "  _np_qint32 = np.dtype([(\"qint32\", np.int32, 1)])\n",
      "/home/jupyterlab/conda/envs/python/lib/python3.7/site-packages/tensorflow/python/framework/dtypes.py:525: FutureWarning: Passing (type, 1) or '1type' as a synonym of type is deprecated; in a future version of numpy, it will be understood as (type, (1,)) / '(1,)type'.\n",
      "  np_resource = np.dtype([(\"resource\", np.ubyte, 1)])\n",
      "/home/jupyterlab/conda/envs/python/lib/python3.7/site-packages/tensorboard/compat/tensorflow_stub/dtypes.py:541: FutureWarning: Passing (type, 1) or '1type' as a synonym of type is deprecated; in a future version of numpy, it will be understood as (type, (1,)) / '(1,)type'.\n",
      "  _np_qint8 = np.dtype([(\"qint8\", np.int8, 1)])\n",
      "/home/jupyterlab/conda/envs/python/lib/python3.7/site-packages/tensorboard/compat/tensorflow_stub/dtypes.py:542: FutureWarning: Passing (type, 1) or '1type' as a synonym of type is deprecated; in a future version of numpy, it will be understood as (type, (1,)) / '(1,)type'.\n",
      "  _np_quint8 = np.dtype([(\"quint8\", np.uint8, 1)])\n",
      "/home/jupyterlab/conda/envs/python/lib/python3.7/site-packages/tensorboard/compat/tensorflow_stub/dtypes.py:543: FutureWarning: Passing (type, 1) or '1type' as a synonym of type is deprecated; in a future version of numpy, it will be understood as (type, (1,)) / '(1,)type'.\n",
      "  _np_qint16 = np.dtype([(\"qint16\", np.int16, 1)])\n",
      "/home/jupyterlab/conda/envs/python/lib/python3.7/site-packages/tensorboard/compat/tensorflow_stub/dtypes.py:544: FutureWarning: Passing (type, 1) or '1type' as a synonym of type is deprecated; in a future version of numpy, it will be understood as (type, (1,)) / '(1,)type'.\n",
      "  _np_quint16 = np.dtype([(\"quint16\", np.uint16, 1)])\n",
      "/home/jupyterlab/conda/envs/python/lib/python3.7/site-packages/tensorboard/compat/tensorflow_stub/dtypes.py:545: FutureWarning: Passing (type, 1) or '1type' as a synonym of type is deprecated; in a future version of numpy, it will be understood as (type, (1,)) / '(1,)type'.\n",
      "  _np_qint32 = np.dtype([(\"qint32\", np.int32, 1)])\n",
      "/home/jupyterlab/conda/envs/python/lib/python3.7/site-packages/tensorboard/compat/tensorflow_stub/dtypes.py:550: FutureWarning: Passing (type, 1) or '1type' as a synonym of type is deprecated; in a future version of numpy, it will be understood as (type, (1,)) / '(1,)type'.\n",
      "  np_resource = np.dtype([(\"resource\", np.ubyte, 1)])\n"
     ]
    }
   ],
   "source": [
    "import keras \n",
    "from keras.models import Sequential\n",
    "from keras.layers import Dense"
   ]
  },
  {
   "cell_type": "markdown",
   "id": "6ce4af6c-a14a-4654-ae33-59449f4c450d",
   "metadata": {},
   "source": [
    "A. Build a baseline model"
   ]
  },
  {
   "cell_type": "code",
   "execution_count": 6,
   "id": "e607e7f3-eaa3-4b89-a3ae-da70b27c35e4",
   "metadata": {},
   "outputs": [],
   "source": [
    "def baseline_model():\n",
    "    # create model\n",
    "    model = Sequential()\n",
    "    model.add(Dense(10, activation='relu', input_shape=(n_cols,)))\n",
    "    model.add(Dense(1))\n",
    "    \n",
    "    # compile model\n",
    "    model.compile(optimizer='adam', loss='mean_squared_error')\n",
    "    return model"
   ]
  },
  {
   "cell_type": "code",
   "execution_count": 7,
   "id": "e0d8bd6c-a38b-4a25-ad7f-740c886c399f",
   "metadata": {},
   "outputs": [
    {
     "name": "stdout",
     "output_type": "stream",
     "text": [
      "WARNING:tensorflow:From /home/jupyterlab/conda/envs/python/lib/python3.7/site-packages/keras/backend/tensorflow_backend.py:68: The name tf.get_default_graph is deprecated. Please use tf.compat.v1.get_default_graph instead.\n",
      "\n",
      "WARNING:tensorflow:From /home/jupyterlab/conda/envs/python/lib/python3.7/site-packages/keras/backend/tensorflow_backend.py:508: The name tf.placeholder is deprecated. Please use tf.compat.v1.placeholder instead.\n",
      "\n",
      "WARNING:tensorflow:From /home/jupyterlab/conda/envs/python/lib/python3.7/site-packages/keras/backend/tensorflow_backend.py:3837: The name tf.random_uniform is deprecated. Please use tf.random.uniform instead.\n",
      "\n",
      "WARNING:tensorflow:From /home/jupyterlab/conda/envs/python/lib/python3.7/site-packages/keras/optimizers.py:757: The name tf.train.Optimizer is deprecated. Please use tf.compat.v1.train.Optimizer instead.\n",
      "\n"
     ]
    }
   ],
   "source": [
    "# build the model\n",
    "model = baseline_model()\n"
   ]
  },
  {
   "cell_type": "code",
   "execution_count": 8,
   "id": "59e01e25-3716-41dc-b601-acda17ce176d",
   "metadata": {},
   "outputs": [
    {
     "name": "stderr",
     "output_type": "stream",
     "text": [
      "/home/jupyterlab/conda/envs/python/lib/python3.7/site-packages/sklearn/utils/validation.py:37: DeprecationWarning: distutils Version classes are deprecated. Use packaging.version instead.\n",
      "  LARGE_SPARSE_SUPPORTED = LooseVersion(scipy_version) >= '0.14.0'\n"
     ]
    }
   ],
   "source": [
    "# Import tran_test_split\n",
    "from sklearn.model_selection import train_test_split"
   ]
  },
  {
   "cell_type": "markdown",
   "id": "ac1f428c-54f0-47c3-a2bb-e0811d734246",
   "metadata": {},
   "source": [
    "1. Randomly split the data into a training and test sets by holding 30% of the data for testing. You can use the train_test_splithelper function from Scikit-learn."
   ]
  },
  {
   "cell_type": "code",
   "execution_count": 9,
   "id": "5dc0b3ca-4558-4463-b125-eff41fa56581",
   "metadata": {},
   "outputs": [],
   "source": [
    "x_train,x_test, y_train, y_test = train_test_split(predictors, target, test_size=0.3)"
   ]
  },
  {
   "cell_type": "markdown",
   "id": "5a39faeb-7054-4548-a9b0-03af502068b2",
   "metadata": {},
   "source": [
    "2. Train the model on the training data using 50 epochs."
   ]
  },
  {
   "cell_type": "code",
   "execution_count": 10,
   "id": "e46b2825-1bdb-4211-8c7c-b63393d797b9",
   "metadata": {},
   "outputs": [
    {
     "name": "stdout",
     "output_type": "stream",
     "text": [
      "WARNING:tensorflow:From /home/jupyterlab/conda/envs/python/lib/python3.7/site-packages/keras/backend/tensorflow_backend.py:977: The name tf.assign_add is deprecated. Please use tf.compat.v1.assign_add instead.\n",
      "\n",
      "WARNING:tensorflow:From /home/jupyterlab/conda/envs/python/lib/python3.7/site-packages/keras/backend/tensorflow_backend.py:964: The name tf.assign is deprecated. Please use tf.compat.v1.assign instead.\n",
      "\n",
      "Epoch 1/50\n"
     ]
    },
    {
     "name": "stderr",
     "output_type": "stream",
     "text": [
      "2022-10-09 17:56:11.064087: I tensorflow/core/platform/cpu_feature_guard.cc:142] Your CPU supports instructions that this TensorFlow binary was not compiled to use: SSE4.1 SSE4.2 AVX AVX2 AVX512F FMA\n",
      "2022-10-09 17:56:11.071688: I tensorflow/core/platform/profile_utils/cpu_utils.cc:94] CPU Frequency: 2593900000 Hz\n",
      "2022-10-09 17:56:11.072598: I tensorflow/compiler/xla/service/service.cc:168] XLA service 0x5586cec05aa0 executing computations on platform Host. Devices:\n",
      "2022-10-09 17:56:11.072658: I tensorflow/compiler/xla/service/service.cc:175]   StreamExecutor device (0): <undefined>, <undefined>\n",
      "2022-10-09 17:56:11.162692: W tensorflow/compiler/jit/mark_for_compilation_pass.cc:1412] (One-time warning): Not using XLA:CPU for cluster because envvar TF_XLA_FLAGS=--tf_xla_cpu_global_jit was not set.  If you want XLA:CPU, either set that envvar, or use experimental_jit_scope to enable XLA:CPU.  To confirm that XLA is active, pass --vmodule=xla_compilation_cache=1 (as a proper command-line flag, not via TF_XLA_FLAGS) or set the envvar XLA_FLAGS=--xla_hlo_profile.\n"
     ]
    },
    {
     "name": "stdout",
     "output_type": "stream",
     "text": [
      " - 0s - loss: 12099.3843\n",
      "Epoch 2/50\n",
      " - 0s - loss: 3316.0540\n",
      "Epoch 3/50\n",
      " - 0s - loss: 2707.2790\n",
      "Epoch 4/50\n",
      " - 0s - loss: 2358.8952\n",
      "Epoch 5/50\n",
      " - 0s - loss: 2047.8751\n",
      "Epoch 6/50\n",
      " - 0s - loss: 1796.2142\n",
      "Epoch 7/50\n",
      " - 0s - loss: 1589.1038\n",
      "Epoch 8/50\n",
      " - 0s - loss: 1399.4331\n",
      "Epoch 9/50\n",
      " - 0s - loss: 1235.0871\n",
      "Epoch 10/50\n",
      " - 0s - loss: 1111.0917\n",
      "Epoch 11/50\n",
      " - 0s - loss: 991.7567\n",
      "Epoch 12/50\n",
      " - 0s - loss: 892.6986\n",
      "Epoch 13/50\n",
      " - 0s - loss: 806.6142\n",
      "Epoch 14/50\n",
      " - 0s - loss: 740.0877\n",
      "Epoch 15/50\n",
      " - 0s - loss: 673.4807\n",
      "Epoch 16/50\n",
      " - 0s - loss: 620.4622\n",
      "Epoch 17/50\n",
      " - 0s - loss: 568.2804\n",
      "Epoch 18/50\n",
      " - 0s - loss: 525.2973\n",
      "Epoch 19/50\n",
      " - 0s - loss: 488.4963\n",
      "Epoch 20/50\n",
      " - 0s - loss: 454.9260\n",
      "Epoch 21/50\n",
      " - 0s - loss: 422.9710\n",
      "Epoch 22/50\n",
      " - 0s - loss: 395.5795\n",
      "Epoch 23/50\n",
      " - 0s - loss: 373.9494\n",
      "Epoch 24/50\n",
      " - 0s - loss: 352.0890\n",
      "Epoch 25/50\n",
      " - 0s - loss: 331.3984\n",
      "Epoch 26/50\n",
      " - 0s - loss: 317.3565\n",
      "Epoch 27/50\n",
      " - 0s - loss: 300.3344\n",
      "Epoch 28/50\n",
      " - 0s - loss: 286.6521\n",
      "Epoch 29/50\n",
      " - 0s - loss: 274.4787\n",
      "Epoch 30/50\n",
      " - 0s - loss: 264.4374\n",
      "Epoch 31/50\n",
      " - 0s - loss: 252.4021\n",
      "Epoch 32/50\n",
      " - 0s - loss: 242.5267\n",
      "Epoch 33/50\n",
      " - 0s - loss: 234.4607\n",
      "Epoch 34/50\n",
      " - 0s - loss: 227.6758\n",
      "Epoch 35/50\n",
      " - 0s - loss: 219.1330\n",
      "Epoch 36/50\n",
      " - 0s - loss: 213.7859\n",
      "Epoch 37/50\n",
      " - 0s - loss: 207.5871\n",
      "Epoch 38/50\n",
      " - 0s - loss: 201.9429\n",
      "Epoch 39/50\n",
      " - 0s - loss: 197.3089\n",
      "Epoch 40/50\n",
      " - 0s - loss: 191.2526\n",
      "Epoch 41/50\n",
      " - 0s - loss: 187.9050\n",
      "Epoch 42/50\n",
      " - 0s - loss: 182.8677\n",
      "Epoch 43/50\n",
      " - 0s - loss: 178.4973\n",
      "Epoch 44/50\n",
      " - 0s - loss: 174.8638\n",
      "Epoch 45/50\n",
      " - 0s - loss: 169.3836\n",
      "Epoch 46/50\n",
      " - 0s - loss: 169.6748\n",
      "Epoch 47/50\n",
      " - 0s - loss: 163.7984\n",
      "Epoch 48/50\n",
      " - 0s - loss: 159.1055\n",
      "Epoch 49/50\n",
      " - 0s - loss: 155.6015\n",
      "Epoch 50/50\n",
      " - 0s - loss: 153.2931\n"
     ]
    },
    {
     "data": {
      "text/plain": [
       "<keras.callbacks.History at 0x7fd0a108ef10>"
      ]
     },
     "execution_count": 10,
     "metadata": {},
     "output_type": "execute_result"
    }
   ],
   "source": [
    "model.fit(x_train, y_train, epochs=50, verbose=2)"
   ]
  },
  {
   "cell_type": "markdown",
   "id": "6d40e0a3-673a-429c-8eea-df1157996f4b",
   "metadata": {},
   "source": [
    "3. Evaluate the model on the test data and compute the mean squared error between the predicted concrete strength and the actual concrete strength."
   ]
  },
  {
   "cell_type": "code",
   "execution_count": 11,
   "id": "2923cdf5-b267-4a69-925f-bd964ddac95f",
   "metadata": {},
   "outputs": [
    {
     "data": {
      "text/plain": [
       "193.26872982374562"
      ]
     },
     "execution_count": 11,
     "metadata": {},
     "output_type": "execute_result"
    }
   ],
   "source": [
    "from sklearn.metrics import mean_squared_error\n",
    "y_pred=model.predict(x_test)\n",
    "mean_squared_error(y_pred,y_test)"
   ]
  },
  {
   "cell_type": "markdown",
   "id": "03828ca9-4de4-4733-8cdc-6a1034dc498f",
   "metadata": {},
   "source": [
    "4. Repeat steps 1 - 3, 50 times, i.e., create a list of 50 mean squared errors."
   ]
  },
  {
   "cell_type": "code",
   "execution_count": 12,
   "id": "c84d10a8-9d77-48c2-8a94-6cd3f2cfb3e2",
   "metadata": {},
   "outputs": [
    {
     "name": "stdout",
     "output_type": "stream",
     "text": [
      "50\n"
     ]
    },
    {
     "data": {
      "text/plain": [
       "7.305404350817465"
      ]
     },
     "execution_count": 12,
     "metadata": {},
     "output_type": "execute_result"
    }
   ],
   "source": [
    "mse=[]\n",
    "\n",
    "for i in range(0,50):\n",
    "    x_train,x_test, y_train, y_test = train_test_split(predictors, target, test_size=0.3,random_state=i+63)\n",
    "    model.fit(x_train, y_train, epochs=50,verbose=0)\n",
    "    y_pred=model.predict(x_test)\n",
    "    mse.append(mean_squared_error(y_pred,y_test))"
   ]
  },
  {
   "cell_type": "markdown",
   "id": "2f0d81a9-e6d9-45c8-8428-7f83d3bd0ff0",
   "metadata": {},
   "source": [
    "5. Report the mean and the standard deviation of the mean squared errors."
   ]
  },
  {
   "cell_type": "code",
   "execution_count": 22,
   "id": "62079b5d-191f-4e36-a554-ea5ba7682cce",
   "metadata": {},
   "outputs": [
    {
     "name": "stdout",
     "output_type": "stream",
     "text": [
      "Mean of the mean squared errors: 50.23292585854058\n",
      "Standard deviation of the mean squared errors: 7.305404350817465\n"
     ]
    }
   ],
   "source": [
    "print('Mean of the mean squared errors: '+str(np.mean(mse)))\n",
    "print('Standard deviation of the mean squared errors: '+str(np.std(mse)))"
   ]
  }
 ],
 "metadata": {
  "kernelspec": {
   "display_name": "Python",
   "language": "python",
   "name": "conda-env-python-py"
  },
  "language_info": {
   "codemirror_mode": {
    "name": "ipython",
    "version": 3
   },
   "file_extension": ".py",
   "mimetype": "text/x-python",
   "name": "python",
   "nbconvert_exporter": "python",
   "pygments_lexer": "ipython3",
   "version": "3.7.12"
  }
 },
 "nbformat": 4,
 "nbformat_minor": 5
}
