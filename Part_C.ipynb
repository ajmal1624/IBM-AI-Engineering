{
 "cells": [
  {
   "cell_type": "markdown",
   "id": "c6341f64-1d0a-4973-9418-3e134f93fb27",
   "metadata": {},
   "source": [
    "Regression Model in Keras"
   ]
  },
  {
   "cell_type": "code",
   "execution_count": 18,
   "id": "b8874dfb-1488-4989-b5c8-956404eebc29",
   "metadata": {},
   "outputs": [],
   "source": [
    "import pandas as pd\n",
    "import numpy as np"
   ]
  },
  {
   "cell_type": "markdown",
   "id": "3505691b-4f24-457e-b642-0c3354f5604d",
   "metadata": {},
   "source": [
    "Get the dataset"
   ]
  },
  {
   "cell_type": "code",
   "execution_count": 19,
   "id": "3a125b3a-4b93-4fca-a52e-19476de6f29e",
   "metadata": {},
   "outputs": [],
   "source": [
    "concrete_data = pd.read_csv('https://s3-api.us-geo.objectstorage.softlayer.net/cf-courses-data/CognitiveClass/DL0101EN/labs/data/concrete_data.csv')"
   ]
  },
  {
   "cell_type": "markdown",
   "id": "f5275e77-73dd-4d82-a264-2b4ba3e73ee1",
   "metadata": {},
   "source": [
    "Prepare the data"
   ]
  },
  {
   "cell_type": "code",
   "execution_count": 20,
   "id": "10a33d0a-ad9e-4541-b157-b63606484164",
   "metadata": {},
   "outputs": [],
   "source": [
    "concrete_data_columns = concrete_data.columns\n",
    "\n",
    "predictors = concrete_data[concrete_data_columns[concrete_data_columns != 'Strength']] \n",
    "target = concrete_data['Strength']\n",
    "n_cols = predictors.shape[1]"
   ]
  },
  {
   "cell_type": "markdown",
   "id": "aab66a67-2d2d-409c-ad6c-3f70de708101",
   "metadata": {},
   "source": [
    "Load Keras libary"
   ]
  },
  {
   "cell_type": "code",
   "execution_count": 21,
   "id": "accc4b4b-ec3c-48b7-9b02-fdeb863fcbbb",
   "metadata": {},
   "outputs": [],
   "source": [
    "import keras \n",
    "from keras.models import Sequential\n",
    "from keras.layers import Dense"
   ]
  },
  {
   "cell_type": "markdown",
   "id": "6ce4af6c-a14a-4654-ae33-59449f4c450d",
   "metadata": {},
   "source": [
    "A. Build a baseline model"
   ]
  },
  {
   "cell_type": "code",
   "execution_count": 22,
   "id": "e607e7f3-eaa3-4b89-a3ae-da70b27c35e4",
   "metadata": {},
   "outputs": [],
   "source": [
    "def baseline_model():\n",
    "    # create model\n",
    "    model = Sequential()\n",
    "    model.add(Dense(10, activation='relu', input_shape=(n_cols,)))\n",
    "    model.add(Dense(1))\n",
    "    \n",
    "    # compile model\n",
    "    model.compile(optimizer='adam', loss='mean_squared_error')\n",
    "    return model"
   ]
  },
  {
   "cell_type": "code",
   "execution_count": 23,
   "id": "e0d8bd6c-a38b-4a25-ad7f-740c886c399f",
   "metadata": {},
   "outputs": [],
   "source": [
    "# build the model\n",
    "model = baseline_model()\n"
   ]
  },
  {
   "cell_type": "code",
   "execution_count": 24,
   "id": "59e01e25-3716-41dc-b601-acda17ce176d",
   "metadata": {},
   "outputs": [],
   "source": [
    "# Import tran_test_split\n",
    "from sklearn.model_selection import train_test_split"
   ]
  },
  {
   "cell_type": "markdown",
   "id": "ac1f428c-54f0-47c3-a2bb-e0811d734246",
   "metadata": {},
   "source": [
    "1. Randomly split the data into a training and test sets by holding 30% of the data for testing. You can use the train_test_splithelper function from Scikit-learn."
   ]
  },
  {
   "cell_type": "code",
   "execution_count": 25,
   "id": "5dc0b3ca-4558-4463-b125-eff41fa56581",
   "metadata": {},
   "outputs": [],
   "source": [
    "x_train,x_test, y_train, y_test = train_test_split(predictors, target, test_size=0.3)"
   ]
  },
  {
   "cell_type": "markdown",
   "id": "5a39faeb-7054-4548-a9b0-03af502068b2",
   "metadata": {},
   "source": [
    "2. Train the model on the training data using 50 epochs."
   ]
  },
  {
   "cell_type": "code",
   "execution_count": 26,
   "id": "e46b2825-1bdb-4211-8c7c-b63393d797b9",
   "metadata": {},
   "outputs": [
    {
     "name": "stdout",
     "output_type": "stream",
     "text": [
      "Epoch 1/50\n",
      " - 0s - loss: 73730.8483\n",
      "Epoch 2/50\n",
      " - 0s - loss: 14946.8661\n",
      "Epoch 3/50\n",
      " - 0s - loss: 5498.2245\n",
      "Epoch 4/50\n",
      " - 0s - loss: 4548.9001\n",
      "Epoch 5/50\n",
      " - 0s - loss: 3559.6980\n",
      "Epoch 6/50\n",
      " - 0s - loss: 2874.8914\n",
      "Epoch 7/50\n",
      " - 0s - loss: 2373.2158\n",
      "Epoch 8/50\n",
      " - 0s - loss: 1952.8746\n",
      "Epoch 9/50\n",
      " - 0s - loss: 1626.7593\n",
      "Epoch 10/50\n",
      " - 0s - loss: 1359.8177\n",
      "Epoch 11/50\n",
      " - 0s - loss: 1139.5588\n",
      "Epoch 12/50\n",
      " - 0s - loss: 965.1954\n",
      "Epoch 13/50\n",
      " - 0s - loss: 832.9714\n",
      "Epoch 14/50\n",
      " - 0s - loss: 725.7188\n",
      "Epoch 15/50\n",
      " - 0s - loss: 646.4630\n",
      "Epoch 16/50\n",
      " - 0s - loss: 572.8200\n",
      "Epoch 17/50\n",
      " - 0s - loss: 517.3771\n",
      "Epoch 18/50\n",
      " - 0s - loss: 473.7443\n",
      "Epoch 19/50\n",
      " - 0s - loss: 434.4817\n",
      "Epoch 20/50\n",
      " - 0s - loss: 403.5192\n",
      "Epoch 21/50\n",
      " - 0s - loss: 380.4286\n",
      "Epoch 22/50\n",
      " - 0s - loss: 356.4296\n",
      "Epoch 23/50\n",
      " - 0s - loss: 340.2010\n",
      "Epoch 24/50\n",
      " - 0s - loss: 326.1402\n",
      "Epoch 25/50\n",
      " - 0s - loss: 316.2545\n",
      "Epoch 26/50\n",
      " - 0s - loss: 305.8511\n",
      "Epoch 27/50\n",
      " - 0s - loss: 297.8380\n",
      "Epoch 28/50\n",
      " - 0s - loss: 298.3458\n",
      "Epoch 29/50\n",
      " - 0s - loss: 291.5011\n",
      "Epoch 30/50\n",
      " - 0s - loss: 282.5411\n",
      "Epoch 31/50\n",
      " - 0s - loss: 277.2196\n",
      "Epoch 32/50\n",
      " - 0s - loss: 273.6780\n",
      "Epoch 33/50\n",
      " - 0s - loss: 270.0531\n",
      "Epoch 34/50\n",
      " - 0s - loss: 267.6808\n",
      "Epoch 35/50\n",
      " - 0s - loss: 263.0346\n",
      "Epoch 36/50\n",
      " - 0s - loss: 260.3571\n",
      "Epoch 37/50\n",
      " - 0s - loss: 256.7094\n",
      "Epoch 38/50\n",
      " - 0s - loss: 255.2340\n",
      "Epoch 39/50\n",
      " - 0s - loss: 253.2255\n",
      "Epoch 40/50\n",
      " - 0s - loss: 248.6869\n",
      "Epoch 41/50\n",
      " - 0s - loss: 249.9627\n",
      "Epoch 42/50\n",
      " - 0s - loss: 245.8870\n",
      "Epoch 43/50\n",
      " - 0s - loss: 242.6589\n",
      "Epoch 44/50\n",
      " - 0s - loss: 239.1804\n",
      "Epoch 45/50\n",
      " - 0s - loss: 236.2594\n",
      "Epoch 46/50\n",
      " - 0s - loss: 234.6919\n",
      "Epoch 47/50\n",
      " - 0s - loss: 231.4594\n",
      "Epoch 48/50\n",
      " - 0s - loss: 229.5251\n",
      "Epoch 49/50\n",
      " - 0s - loss: 227.2716\n",
      "Epoch 50/50\n",
      " - 0s - loss: 224.5682\n"
     ]
    },
    {
     "data": {
      "text/plain": [
       "<keras.callbacks.History at 0x7f01e0216210>"
      ]
     },
     "execution_count": 26,
     "metadata": {},
     "output_type": "execute_result"
    }
   ],
   "source": [
    "model.fit(x_train, y_train, epochs=50, verbose=2)"
   ]
  },
  {
   "cell_type": "markdown",
   "id": "6d40e0a3-673a-429c-8eea-df1157996f4b",
   "metadata": {},
   "source": [
    "3. Evaluate the model on the test data and compute the mean squared error between the predicted concrete strength and the actual concrete strength."
   ]
  },
  {
   "cell_type": "code",
   "execution_count": 27,
   "id": "2923cdf5-b267-4a69-925f-bd964ddac95f",
   "metadata": {},
   "outputs": [
    {
     "data": {
      "text/plain": [
       "221.9238548205726"
      ]
     },
     "execution_count": 27,
     "metadata": {},
     "output_type": "execute_result"
    }
   ],
   "source": [
    "from sklearn.metrics import mean_squared_error\n",
    "y_pred=model.predict(x_test)\n",
    "mean_squared_error(y_pred,y_test)"
   ]
  },
  {
   "cell_type": "markdown",
   "id": "03828ca9-4de4-4733-8cdc-6a1034dc498f",
   "metadata": {},
   "source": [
    "4. Repeat steps 1 - 3, 50 times, i.e., create a list of 50 mean squared errors."
   ]
  },
  {
   "cell_type": "code",
   "execution_count": 28,
   "id": "c84d10a8-9d77-48c2-8a94-6cd3f2cfb3e2",
   "metadata": {},
   "outputs": [],
   "source": [
    "mse=[]\n",
    "\n",
    "for i in range(0,50):\n",
    "    x_train,x_test, y_train, y_test = train_test_split(predictors, target, test_size=0.3,random_state=i+63)\n",
    "    model.fit(x_train, y_train, epochs=50,verbose=0)\n",
    "    y_pred=model.predict(x_test)\n",
    "    mse.append(mean_squared_error(y_pred,y_test))"
   ]
  },
  {
   "cell_type": "markdown",
   "id": "2f0d81a9-e6d9-45c8-8428-7f83d3bd0ff0",
   "metadata": {},
   "source": [
    "5. Report the mean and the standard deviation of the mean squared errors."
   ]
  },
  {
   "cell_type": "code",
   "execution_count": 29,
   "id": "62079b5d-191f-4e36-a554-ea5ba7682cce",
   "metadata": {},
   "outputs": [
    {
     "name": "stdout",
     "output_type": "stream",
     "text": [
      "Mean of the mean squared errors: 55.196495149221455\n",
      "Standard deviation of the mean squared errors: 16.52724811142092\n"
     ]
    }
   ],
   "source": [
    "print('Mean of the mean squared errors: '+str(np.mean(mse)))\n",
    "print('Standard deviation of the mean squared errors: '+str(np.std(mse)))"
   ]
  },
  {
   "cell_type": "markdown",
   "id": "9ae20467-7df6-4921-a5e1-78d2b855ca59",
   "metadata": {},
   "source": [
    "B. Normalize the data"
   ]
  },
  {
   "cell_type": "code",
   "execution_count": 30,
   "id": "31678c07-2a33-4b1f-8ac7-301d9ce71dd2",
   "metadata": {},
   "outputs": [
    {
     "data": {
      "text/html": [
       "<div>\n",
       "<style scoped>\n",
       "    .dataframe tbody tr th:only-of-type {\n",
       "        vertical-align: middle;\n",
       "    }\n",
       "\n",
       "    .dataframe tbody tr th {\n",
       "        vertical-align: top;\n",
       "    }\n",
       "\n",
       "    .dataframe thead th {\n",
       "        text-align: right;\n",
       "    }\n",
       "</style>\n",
       "<table border=\"1\" class=\"dataframe\">\n",
       "  <thead>\n",
       "    <tr style=\"text-align: right;\">\n",
       "      <th></th>\n",
       "      <th>Cement</th>\n",
       "      <th>Blast Furnace Slag</th>\n",
       "      <th>Fly Ash</th>\n",
       "      <th>Water</th>\n",
       "      <th>Superplasticizer</th>\n",
       "      <th>Coarse Aggregate</th>\n",
       "      <th>Fine Aggregate</th>\n",
       "      <th>Age</th>\n",
       "    </tr>\n",
       "  </thead>\n",
       "  <tbody>\n",
       "    <tr>\n",
       "      <th>0</th>\n",
       "      <td>2.476712</td>\n",
       "      <td>-0.856472</td>\n",
       "      <td>-0.846733</td>\n",
       "      <td>-0.916319</td>\n",
       "      <td>-0.620147</td>\n",
       "      <td>0.862735</td>\n",
       "      <td>-1.217079</td>\n",
       "      <td>-0.279597</td>\n",
       "    </tr>\n",
       "    <tr>\n",
       "      <th>1</th>\n",
       "      <td>2.476712</td>\n",
       "      <td>-0.856472</td>\n",
       "      <td>-0.846733</td>\n",
       "      <td>-0.916319</td>\n",
       "      <td>-0.620147</td>\n",
       "      <td>1.055651</td>\n",
       "      <td>-1.217079</td>\n",
       "      <td>-0.279597</td>\n",
       "    </tr>\n",
       "    <tr>\n",
       "      <th>2</th>\n",
       "      <td>0.491187</td>\n",
       "      <td>0.795140</td>\n",
       "      <td>-0.846733</td>\n",
       "      <td>2.174405</td>\n",
       "      <td>-1.038638</td>\n",
       "      <td>-0.526262</td>\n",
       "      <td>-2.239829</td>\n",
       "      <td>3.551340</td>\n",
       "    </tr>\n",
       "    <tr>\n",
       "      <th>3</th>\n",
       "      <td>0.491187</td>\n",
       "      <td>0.795140</td>\n",
       "      <td>-0.846733</td>\n",
       "      <td>2.174405</td>\n",
       "      <td>-1.038638</td>\n",
       "      <td>-0.526262</td>\n",
       "      <td>-2.239829</td>\n",
       "      <td>5.055221</td>\n",
       "    </tr>\n",
       "    <tr>\n",
       "      <th>4</th>\n",
       "      <td>-0.790075</td>\n",
       "      <td>0.678079</td>\n",
       "      <td>-0.846733</td>\n",
       "      <td>0.488555</td>\n",
       "      <td>-1.038638</td>\n",
       "      <td>0.070492</td>\n",
       "      <td>0.647569</td>\n",
       "      <td>4.976069</td>\n",
       "    </tr>\n",
       "  </tbody>\n",
       "</table>\n",
       "</div>"
      ],
      "text/plain": [
       "     Cement  Blast Furnace Slag   Fly Ash     Water  Superplasticizer  \\\n",
       "0  2.476712           -0.856472 -0.846733 -0.916319         -0.620147   \n",
       "1  2.476712           -0.856472 -0.846733 -0.916319         -0.620147   \n",
       "2  0.491187            0.795140 -0.846733  2.174405         -1.038638   \n",
       "3  0.491187            0.795140 -0.846733  2.174405         -1.038638   \n",
       "4 -0.790075            0.678079 -0.846733  0.488555         -1.038638   \n",
       "\n",
       "   Coarse Aggregate  Fine Aggregate       Age  \n",
       "0          0.862735       -1.217079 -0.279597  \n",
       "1          1.055651       -1.217079 -0.279597  \n",
       "2         -0.526262       -2.239829  3.551340  \n",
       "3         -0.526262       -2.239829  5.055221  \n",
       "4          0.070492        0.647569  4.976069  "
      ]
     },
     "execution_count": 30,
     "metadata": {},
     "output_type": "execute_result"
    }
   ],
   "source": [
    "predictors_norm = (predictors - predictors.mean()) / predictors.std()\n",
    "predictors_norm.head()"
   ]
  },
  {
   "cell_type": "code",
   "execution_count": 31,
   "id": "9be3e993-3653-4a4d-8e21-7f28c3fe879c",
   "metadata": {},
   "outputs": [
    {
     "name": "stdout",
     "output_type": "stream",
     "text": [
      "Mean of the mean squared errors (normalized data): 51.46225863628196\n",
      "Standard deviation of the mean squared errors (normalized data): 50.35773656566548\n"
     ]
    }
   ],
   "source": [
    "mse_norm=[]\n",
    "\n",
    "for i in range(0,50):\n",
    "    x_train_norm,x_test_norm, y_train, y_test = train_test_split(predictors_norm, target, test_size=0.3,random_state=i+63)\n",
    "    model.fit(x_train_norm, y_train, epochs=50,verbose=0)\n",
    "    y_pred=model.predict(x_test_norm)\n",
    "    mse_norm.append(mean_squared_error(y_pred,y_test))\n",
    "\n",
    "print('Mean of the mean squared errors (normalized data): '+str(np.mean(mse_norm)))\n",
    "print('Standard deviation of the mean squared errors (normalized data): '+str(np.std(mse_norm)))"
   ]
  },
  {
   "cell_type": "markdown",
   "id": "a452f589-9a79-4ad9-9f03-d4cbd8245991",
   "metadata": {},
   "source": [
    "Conclusion: with the normalized predictors, both the mean and standard deviation of the mean squared errors of the model predictions decrease compared to the pre-normalized trained model."
   ]
  },
  {
   "cell_type": "markdown",
   "id": "8f9f2965-fb2a-47b1-a83b-653f37900761",
   "metadata": {},
   "source": [
    "C. Increase the number of epochs"
   ]
  },
  {
   "cell_type": "code",
   "execution_count": 32,
   "id": "99bbed13-2ff8-48de-b0e2-8473fe72bc01",
   "metadata": {},
   "outputs": [
    {
     "name": "stdout",
     "output_type": "stream",
     "text": [
      "Mean of the mean squared errors (100 epochs): 27.571666599060414\n",
      "Standard deviation of the mean squared errors (100 epochs): 2.1582590706067926\n"
     ]
    }
   ],
   "source": [
    "mse_100epcs=[]\n",
    "\n",
    "for i in range(0,50):\n",
    "    x_train_norm,x_test_norm, y_train, y_test = train_test_split(predictors_norm, target, test_size=0.3,random_state=i+63)\n",
    "    model.fit(x_train_norm, y_train, epochs=100,verbose=0)\n",
    "    y_pred=model.predict(x_test_norm)\n",
    "    mse_100epcs.append(mean_squared_error(y_pred,y_test))\n",
    "\n",
    "print('Mean of the mean squared errors (100 epochs): '+str(np.mean(mse_100epcs)))\n",
    "print('Standard deviation of the mean squared errors (100 epochs): '+str(np.std(mse_100epcs)))"
   ]
  },
  {
   "cell_type": "markdown",
   "id": "452435c2-abf1-4286-aab1-97063510a091",
   "metadata": {},
   "source": [
    "The mean of the mean squared errors decreases compared to that from Step B."
   ]
  },
  {
   "cell_type": "markdown",
   "id": "c1ba159e-4a4f-4f5d-8848-c42dff9e8ad0",
   "metadata": {},
   "source": [
    "D. Increase the number of hidden layers"
   ]
  },
  {
   "cell_type": "code",
   "execution_count": 12,
   "id": "59ab271e-cc64-45d7-97c2-6cdd82addb35",
   "metadata": {},
   "outputs": [],
   "source": [
    "def enhanced_model():\n",
    "    # create model\n",
    "    model = Sequential()\n",
    "    model.add(Dense(10, activation='relu', input_shape=(n_cols,)))\n",
    "    model.add(Dense(10, activation='relu'))\n",
    "    model.add(Dense(10, activation='relu'))\n",
    "    model.add(Dense(1))\n",
    "    \n",
    "    # compile model\n",
    "    model.compile(optimizer='adam', loss='mean_squared_error')\n",
    "    return model"
   ]
  },
  {
   "cell_type": "code",
   "execution_count": 13,
   "id": "1549cc01-7016-497f-9f10-11c58d0bbd75",
   "metadata": {},
   "outputs": [],
   "source": [
    "model_enhanced=enhanced_model()"
   ]
  },
  {
   "cell_type": "code",
   "execution_count": 14,
   "id": "a6c87948-604b-42ce-a4a4-151893e6ec74",
   "metadata": {},
   "outputs": [
    {
     "name": "stdout",
     "output_type": "stream",
     "text": [
      "Mean of the mean squared errors (enhanced model): 28.916239428805685\n",
      "Standard deviation of the mean squared errors (enhanced model): 12.156192359296238\n"
     ]
    }
   ],
   "source": [
    "mse_enh=[]\n",
    "\n",
    "for i in range(0,50):\n",
    "    x_train_norm,x_test_norm, y_train, y_test = train_test_split(predictors_norm, target, test_size=0.3,random_state=i+63)\n",
    "    model_enhanced.fit(x_train_norm, y_train, epochs=50,verbose=0)\n",
    "    y_pred=model_enhanced.predict(x_test_norm)\n",
    "    mse_enh.append(mean_squared_error(y_pred,y_test))\n",
    "\n",
    "print('Mean of the mean squared errors (enhanced model): '+str(np.mean(mse_enh)))\n",
    "print('Standard deviation of the mean squared errors (enhanced model): '+str(np.std(mse_enh)))"
   ]
  },
  {
   "cell_type": "code",
   "execution_count": null,
   "id": "b3c0659b-6f2d-4b73-95cc-2839e80b54a5",
   "metadata": {},
   "outputs": [],
   "source": []
  }
 ],
 "metadata": {
  "kernelspec": {
   "display_name": "Python",
   "language": "python",
   "name": "conda-env-python-py"
  },
  "language_info": {
   "codemirror_mode": {
    "name": "ipython",
    "version": 3
   },
   "file_extension": ".py",
   "mimetype": "text/x-python",
   "name": "python",
   "nbconvert_exporter": "python",
   "pygments_lexer": "ipython3",
   "version": "3.7.12"
  }
 },
 "nbformat": 4,
 "nbformat_minor": 5
}
